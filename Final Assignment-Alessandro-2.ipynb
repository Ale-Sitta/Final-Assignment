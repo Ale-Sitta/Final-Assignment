{
 "cells": [
  {
   "cell_type": "markdown",
   "id": "4ac1c699",
   "metadata": {},
   "source": [
    "# Data Science Tools and Ecosystem"
   ]
  },
  {
   "cell_type": "markdown",
   "id": "0e2a678a",
   "metadata": {},
   "source": [
    "## Author\n",
    "Alessandro Sitta"
   ]
  },
  {
   "cell_type": "markdown",
   "id": "77aaa8fa",
   "metadata": {},
   "source": [
    "In this notebook, Data Science Tools and Ecosystem are summarized."
   ]
  },
  {
   "cell_type": "markdown",
   "id": "de9d2669",
   "metadata": {},
   "source": [
    "<p> Objectives: </p>\n",
    "    <p>&nbsp; -Popular Languages in Data Science </P>\n",
    "    <p>&nbsp; -Libraries used in Data Sceicne </p>\n",
    "    <p>&nbsp; -Arithmetic Expressions in Python </p>\n"
   ]
  },
  {
   "cell_type": "markdown",
   "id": "5bab35d1",
   "metadata": {},
   "source": [
    "<p> Some of the popular languages that Data Scientists use are: </p>\n",
    "    <p>&nbsp; 1: Python </P>\n",
    "    <p>&nbsp; 2: Scala </p>\n",
    "    <p>&nbsp; 3: SQL </p>\n",
    "    <p>&nbsp; 4: Java </p>"
   ]
  },
  {
   "cell_type": "markdown",
   "id": "09346744",
   "metadata": {},
   "source": [
    "<p> Some of the commonly used libraries used by Data Scientists include: </p>\n",
    "    <p>&nbsp; 1: Pandas </P>\n",
    "    <p>&nbsp; 2: NumPy </p>\n",
    "    <p>&nbsp; 3: Matplotlib </p>\n",
    "    <p>&nbsp; 4: Keras </p>"
   ]
  },
  {
   "cell_type": "markdown",
   "id": "de54220a",
   "metadata": {},
   "source": [
    "\n",
    "|Data Science Tools|\n",
    "---\n",
    "|MySQL|\n",
    "|MongoDB|\n",
    "|ApacheAirflow|"
   ]
  },
  {
   "cell_type": "markdown",
   "id": "02cdcaa1",
   "metadata": {},
   "source": [
    "### Below are a few examples of evaluating arithmetic expressions in Python"
   ]
  },
  {
   "cell_type": "code",
   "execution_count": 2,
   "id": "755ec901",
   "metadata": {},
   "outputs": [
    {
     "data": {
      "text/plain": [
       "17"
      ]
     },
     "execution_count": 2,
     "metadata": {},
     "output_type": "execute_result"
    }
   ],
   "source": [
    "# This a simple arithmetic expression to mutiply then add integers\n",
    "(3*4)+5"
   ]
  },
  {
   "cell_type": "code",
   "execution_count": 3,
   "id": "e0320b85",
   "metadata": {},
   "outputs": [
    {
     "data": {
      "text/plain": [
       "3.3333333333333335"
      ]
     },
     "execution_count": 3,
     "metadata": {},
     "output_type": "execute_result"
    }
   ],
   "source": [
    "# This will convert 200 minutes to hours by diving by 60\n",
    "200/60"
   ]
  },
  {
   "cell_type": "code",
   "execution_count": null,
   "id": "97eacb7c",
   "metadata": {},
   "outputs": [],
   "source": []
  }
 ],
 "metadata": {
  "kernelspec": {
   "display_name": "Python 3 (ipykernel)",
   "language": "python",
   "name": "python3"
  },
  "language_info": {
   "codemirror_mode": {
    "name": "ipython",
    "version": 3
   },
   "file_extension": ".py",
   "mimetype": "text/x-python",
   "name": "python",
   "nbconvert_exporter": "python",
   "pygments_lexer": "ipython3",
   "version": "3.10.9"
  }
 },
 "nbformat": 4,
 "nbformat_minor": 5
}
